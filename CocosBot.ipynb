{
  "nbformat": 4,
  "nbformat_minor": 0,
  "metadata": {
    "colab": {
      "name": "CocosBot.ipynb",
      "provenance": [],
      "collapsed_sections": [],
      "include_colab_link": true
    },
    "kernelspec": {
      "name": "python3",
      "display_name": "Python 3"
    },
    "language_info": {
      "name": "python"
    }
  },
  "cells": [
    {
      "cell_type": "markdown",
      "metadata": {
        "id": "view-in-github",
        "colab_type": "text"
      },
      "source": [
        "<a href=\"https://colab.research.google.com/github/aleobb/personal/blob/master/CocosBot.ipynb\" target=\"_parent\"><img src=\"https://colab.research.google.com/assets/colab-badge.svg\" alt=\"Open In Colab\"/></a>"
      ]
    },
    {
      "cell_type": "code",
      "metadata": {
        "id": "GFKn7xUwWOEw"
      },
      "source": [
        "!pip install pyhomebroker --upgrade --no-cache-dir"
      ],
      "execution_count": null,
      "outputs": []
    },
    {
      "cell_type": "code",
      "metadata": {
        "id": "aoXAIsv4n5eJ"
      },
      "source": [
        "from pyhomebroker import HomeBroker\n",
        "import datetime\n",
        "import pandas as pd\n",
        "import requests"
      ],
      "execution_count": null,
      "outputs": []
    },
    {
      "cell_type": "markdown",
      "metadata": {
        "id": "mNQkCDpvn6lq"
      },
      "source": [
        "En esta notebook vamos a mostrar como armar un portfolio de manera programática (usando algun criterio) y comprarlo. Además, mostramos código para rebalancear. La estrategia que elegimos es una forma de 1/N. Es una estretegia sencilla que suele usarse como baseline. (Esto no es una recomendacion de compra ni nada por el estilo, solamente tiene fines didácticos y busca mostrar como operar usando python).\n",
        "El código está hecho para ser mas claro que performante: puede optimizarse mucho, pero esta es la forma mas clara que encontré de explicarlo."
      ]
    },
    {
      "cell_type": "code",
      "metadata": {
        "id": "j3sNJ28Un8ah"
      },
      "source": [
        "#Primero me conecto a cocos capital usando pyhomebroker.\n",
        "\n",
        "codigo_broker = 265 # cocos capital\n",
        "\n",
        "dni_cuenta = 123456 # tu dni\n",
        "user_cuenta = 'usuario' # tu nombre de usuario\n",
        "user_password = 'password' # tu contraseña\n",
        "comitente = 11111 # tu comitente"
      ],
      "execution_count": null,
      "outputs": []
    },
    {
      "cell_type": "code",
      "metadata": {
        "id": "ktJcaroTn-bA"
      },
      "source": [
        "## homebroker 265 es cocos capital\n",
        "hb = HomeBroker(codigo_broker)\n",
        "\n",
        "## log in: aca usar las credenciales propias\n",
        "hb.auth.login(dni=dni_cuenta, user=user_cuenta, password=user_password, raise_exception=True)\n",
        "hb.online.connect()"
      ],
      "execution_count": null,
      "outputs": []
    },
    {
      "cell_type": "markdown",
      "metadata": {
        "id": "DjbOs0mFoID2"
      },
      "source": [
        "Vamos a definir una estrategia de tipo 1/N. Voy a setear un monto de plata a invertir en el portfolio (capital) y voy a dividir esa plata entre un numero predefinido de acciones (en este caso 10). \n",
        "Voy a usar plazo de liquidacion de 48 hs.\n",
        "\n",
        "¿Como voy a elegir esas 10 acciones? De una forma pava: calculo la mediana de la distribucion de retornos en los ultomos n_dias (60 acá) y lo divido por el mad. Los ordeno de mayor a menor y tomo el top 10. Nada muy loco ni muy elaborado. Es solo para probar como funciona la conexion."
      ]
    },
    {
      "cell_type": "code",
      "metadata": {
        "id": "LEuZTG3yoKeC"
      },
      "source": [
        "n_dias = 60\n",
        "n_assets = 10\n",
        "capital = 50000\n",
        "plazo = '48hs'"
      ],
      "execution_count": null,
      "outputs": []
    },
    {
      "cell_type": "code",
      "metadata": {
        "id": "xqxlcoI6oLwz"
      },
      "source": [
        "## voy a elegir entre los tickers del panel lider, pero podriamos extenderlo\n",
        "tickers = [\n",
        "    \"ALUA\", \"BBAR\", \"BMA\", \"BYMA\",\n",
        "    \"CEPU\", \"COME\", \"CRES\", \"CVH\",\n",
        "    \"EDN\", \"GGAL\", \"HARG\", \"LOMA\",\n",
        "    \"MIRG\", \"PAMP\", \"SUPV\", \"TECO2\",\n",
        "    \"TGNO4\", \"TGSU2\", \"TRAN\", \"TXAR\",\n",
        "    \"VALO\", \"YPFD\"\n",
        "]"
      ],
      "execution_count": null,
      "outputs": []
    },
    {
      "cell_type": "code",
      "metadata": {
        "id": "fXveTCBMoNi_"
      },
      "source": [
        "## algunas funciones auxiliares: \n",
        "\n",
        "def get_data_from_ticker(hb, ticker, n_dias):\n",
        "    ''' Toma una lista de tickers y un objeto homebroker y \n",
        "        busca los precios desde hoy hasta n_dias atras.\n",
        "        Devuelve un dataframe con esa data. '''\n",
        "    \n",
        "    data = hb.history.get_daily_history(ticker, \n",
        "                                        datetime.date.today() - datetime.timedelta(days=n_dias),\n",
        "                                        datetime.date.today()\n",
        "                                       )\n",
        "    \n",
        "    data.loc[:,\"date\"] = pd.to_datetime(data.loc[:,\"date\"])\n",
        "    data = data.set_index(\"date\")\n",
        "    return data\n",
        "\n",
        "\n",
        "def get_dataset(hb, tickers, n_dias):\n",
        "    ''' Toma una lista de tickers y un objeto homebroker. Para cada ticker llama\n",
        "        a la funcion get_data_from_tickers y se queda con el precio de cierre.\n",
        "        Concatena todas las Series en un dataframe y lo devuelve. '''\n",
        "    \n",
        "    df = []\n",
        "    for t in tickers:\n",
        "        ticker_data = get_data_from_ticker(hb, t, n_dias)\n",
        "        ticker_data = ticker_data.close\n",
        "        ticker_data.name = t\n",
        "        df.append(ticker_data)\n",
        "        \n",
        "    return pd.concat(df,1)\n",
        "\n",
        "\n",
        "def get_current_price(hb, ticker):\n",
        "    ''' Devuelve el precio actual de un ticker '''\n",
        "    return hb.history.get_intraday_history(ticker).tail(1).close.values[0]"
      ],
      "execution_count": null,
      "outputs": []
    },
    {
      "cell_type": "code",
      "metadata": {
        "colab": {
          "base_uri": "https://localhost:8080/"
        },
        "id": "5NSn6JYUnzrz",
        "outputId": "30291483-fead-47dd-d31e-b95861b553fb"
      },
      "source": [
        "df = get_dataset(hb,tickers, n_dias)\n",
        "\n",
        "## convierto los precios en retornos (%). Se podría buscar una alternativa mejor\n",
        "returns = df.pct_change().dropna() \n",
        "\n",
        "## tomo la mediana de cada columna y la divido por el mad. Ordeno y me quedo con el top n_assets\n",
        "## (de vuelta, se puede hacer *mucho* mejor que esto)\n",
        "top_choice = returns.median()/returns.mad()\n",
        "top_choice = top_choice.sort_values(ascending=False)[:n_assets]\n",
        "portfolio_tickers = list(top_choice.index)\n",
        "\n",
        "## estos van a ser los tickers para mi portfolio:\n",
        "portfolio_tickers"
      ],
      "execution_count": null,
      "outputs": [
        {
          "output_type": "execute_result",
          "data": {
            "text/plain": [
              "['TXAR', 'MIRG', 'CVH', 'CEPU', 'EDN', 'BYMA', 'PAMP', 'TGNO4', 'YPFD', 'BMA']"
            ]
          },
          "metadata": {},
          "execution_count": 8
        }
      ]
    },
    {
      "cell_type": "markdown",
      "metadata": {
        "id": "hRgpmyTXoRg9"
      },
      "source": [
        "Cuando fui a comprar me di cuenta que hay algunas reglas a tener en cuenta. Como que si el precio es mayor a 250, tenes que redondearlo a multiplos de 50 centavos. O que si está entre 100 y 250 tenes que redondear a multiplos de 25 centavos. Esto lo meto en una funcion para redondear precios:"
      ]
    },
    {
      "cell_type": "code",
      "metadata": {
        "id": "m3-rHOfwoSZB"
      },
      "source": [
        "def round_price(price):\n",
        "    decimals = price % 1\n",
        "    price_no_decimals = price//1 \n",
        "    \n",
        "    if (price > 250) and (decimals != 0.5):\n",
        "        price = round(price)\n",
        "        \n",
        "    elif (price > 100) and (price <=250) and (decimals not in [0, .25, .5, .75]):\n",
        "        if decimals <.25:\n",
        "            price =  price_no_decimals\n",
        "        elif decimals >.25 and decimals <.5:\n",
        "            price = price_no_decimals + 0.25\n",
        "        elif decimals >.5 and decimals <.75:\n",
        "            price = price_no_decimals + 0.5\n",
        "        else:\n",
        "            price = price_no_decimals + 0.75\n",
        "    \n",
        "    return price "
      ],
      "execution_count": null,
      "outputs": []
    },
    {
      "cell_type": "markdown",
      "metadata": {
        "id": "gy9e0W2ooToj"
      },
      "source": [
        "Y para armar el portfolio de 1/N:"
      ]
    },
    {
      "cell_type": "code",
      "metadata": {
        "id": "MVfEn8h6oUxG"
      },
      "source": [
        "def get_1overN_portfolio(hb, tickers, capital):\n",
        "    \n",
        "    ''' Toma una lista de tickers y un monto de dinero. Divide el monto\n",
        "        en la cantidad de tickers, obtiene el precio actual de la accion,\n",
        "        la redondea segun las reglas de round_price y calcula cuantas puede\n",
        "        comprar. \n",
        "        Devuelve una lista de tuplas, donde cada tupla tiene ticker, precio \n",
        "        y cantidad a comprar.'''\n",
        "    \n",
        "    money_per_asset = capital/len(tickers)\n",
        "    portfolio = []\n",
        "    for t in tickers:\n",
        "        current_price = get_current_price(hb, t)\n",
        "        current_price = round_price(current_price)\n",
        "        n_assets = money_per_asset//current_price\n",
        "        portfolio.append((t, current_price, n_assets))\n",
        "\n",
        "    return portfolio"
      ],
      "execution_count": null,
      "outputs": []
    },
    {
      "cell_type": "code",
      "metadata": {
        "id": "dD-TmQ_eoWgg"
      },
      "source": [
        "portfolio = get_1overN_portfolio(hb, portfolio_tickers, capital)\n",
        "\n",
        "## este es el portfolio que nos queda: \n",
        "## una lista de tuplas. En cada tupla: ticker, precio y cantidad\n",
        "portfolio"
      ],
      "execution_count": null,
      "outputs": []
    },
    {
      "cell_type": "markdown",
      "metadata": {
        "id": "jFHoCrs2oXoY"
      },
      "source": [
        "Iteramos sobre cada tupla del portfolio y llamamos al método \"send_buy_orders\" para hacer las compras:"
      ]
    },
    {
      "cell_type": "code",
      "metadata": {
        "id": "bDyG_YotoYb7"
      },
      "source": [
        "## y con esto lo compramos\n",
        "for p in portfolio:\n",
        "    ## si la cantidad es mayor a 0, compramos:\n",
        "    if p[2] > 0: \n",
        "        order_number = hb.orders.send_buy_order(p[0], plazo, p[1], int(p[2]))"
      ],
      "execution_count": null,
      "outputs": []
    },
    {
      "cell_type": "markdown",
      "metadata": {
        "id": "9mUsFmOUoZWK"
      },
      "source": [
        "Con esto ya tenemos un primer portfolio andando!"
      ]
    },
    {
      "cell_type": "markdown",
      "metadata": {
        "id": "1LV7akYGoaE4"
      },
      "source": [
        "### Y para rebalancear?\n",
        "\n",
        "Vamos a tener que rebalancear cada tanto el portfolio. Lo bueno es que cocos no te cobra comisiones y podes rebalancear todas las veces que quieras. \n",
        "La idea seria meter este pedacito de codigo en un cron y olvidarte."
      ]
    },
    {
      "cell_type": "markdown",
      "metadata": {
        "id": "B8UzmjDxx3n8"
      },
      "source": [
        "Vamos por partes: lo primero es traerme el portfolio actual:"
      ]
    },
    {
      "cell_type": "code",
      "metadata": {
        "id": "8XB2oWNZobRP"
      },
      "source": [
        "def get_current_portfolio(hb, comitente):\n",
        "    \n",
        "    '''Esta funcion hace un request contra /Consultas/GetConsultas al proceso 22. Esto te devuelve tu comitente'''\n",
        "    \n",
        "    payload = {'comitente': str(comitente),\n",
        "     'consolida': '0',\n",
        "     'proceso': '22',\n",
        "     'fechaDesde': None,\n",
        "     'fechaHasta': None,\n",
        "     'tipo': None,\n",
        "     'especie': None,\n",
        "     'comitenteMana': None}\n",
        "    \n",
        "    portfolio = requests.post(\"https://cocoscap.com/Consultas/GetConsulta\", cookies=hb.auth.cookies, json=payload).json()\n",
        "    portfolio = portfolio[\"Result\"][\"Activos\"][1][\"Subtotal\"]\n",
        "    \n",
        "    ## esto devuelve el ticker, el precio y la cantidad que tenes\n",
        "    portfolio = [( x[\"NERE\"], float(x[\"PCIO\"]), float(x[\"CANT\"]) ) for x in portfolio]\n",
        "    return portfolio"
      ],
      "execution_count": null,
      "outputs": []
    },
    {
      "cell_type": "markdown",
      "source": [
        "# Sección nueva"
      ],
      "metadata": {
        "id": "vkCJlZ9pXc4l"
      }
    },
    {
      "cell_type": "markdown",
      "metadata": {
        "id": "Lo7M86Zox7uu"
      },
      "source": [
        "Y con el portfolio actual, más el portfolio que quiero tener (que lo voy a sacar usando la funcion que ya defini para calcular el portfolio 1/N) voy a generar las ordenes para llegar al portfolio nuevo.\n",
        "Las proximas dos funciones van a hacer eso:"
      ]
    },
    {
      "cell_type": "code",
      "metadata": {
        "id": "hh5Q7TNGx1BX"
      },
      "source": [
        "def get_changes(old_portfolio, new_portfolio):\n",
        "    \n",
        "    ''' Recibe un portfolio viejo y un portfolio nuevo y calcula la diferencia entre ambos.\n",
        "        Devuelve un diccionario \"changes\" con las modificaciones en cantidad de acciones \n",
        "        que hay que realizar'''\n",
        "    \n",
        "    changes = {}\n",
        "    old_portfolio = dict([\n",
        "                ( x[0], [x[1],x[2]] ) for x in old_portfolio\n",
        "    ])\n",
        "    \n",
        "    for row in new_portfolio:\n",
        "        ticker = row[0]\n",
        "        price = row[1]\n",
        "        quantity = row[2]\n",
        "        \n",
        "        if ticker in old_portfolio:\n",
        "            changes[ticker] = [price, quantity - old_portfolio[ticker][1]]\n",
        "        else:\n",
        "            changes[ticker] = [price, quantity]\n",
        "    return changes"
      ],
      "execution_count": null,
      "outputs": []
    },
    {
      "cell_type": "code",
      "metadata": {
        "id": "iM0eNCBRxzrV"
      },
      "source": [
        "def changes2orders(changes, plazo):\n",
        "    \n",
        "    ''' Toma un diccionario de changes y devuelve una lista de ordenes\n",
        "        Esto lo usamos en conjunto con get_changes para armar las ordenes \n",
        "        que vamos a usar para rebalancear '''\n",
        "    \n",
        "    orders = []\n",
        "    for ticker, price_quantity in changes.items():\n",
        "        price, quantity = price_quantity\n",
        "        if quantity < 0:\n",
        "            order = (\"V\",ticker,plazo,price, quantity )\n",
        "            orders.append(order)\n",
        "    return orders"
      ],
      "execution_count": null,
      "outputs": []
    },
    {
      "cell_type": "markdown",
      "metadata": {
        "id": "kCRVxbuFyPe3"
      },
      "source": [
        "Solo para emprolijar un poco: juntamos las dos funciones anteriores."
      ]
    },
    {
      "cell_type": "code",
      "metadata": {
        "id": "Scf_DZabxyRd"
      },
      "source": [
        "def get_orders(old_portfolio, new_portfolio, plazo):\n",
        "    \n",
        "    ''' Combinamos get_changes y changes2orders para tomar el portfolio que tenias\n",
        "        y generar ordenes. Con estas ordenes vamos a hacer los cambios necesarios\n",
        "        para convertir nuestro portfolio actual en el portfolio que queremos '''\n",
        "    \n",
        "    changes = get_changes(old_portfolio, new_portfolio)\n",
        "    orders = changes2orders(changes, plazo)\n",
        "    return orders"
      ],
      "execution_count": null,
      "outputs": []
    },
    {
      "cell_type": "markdown",
      "metadata": {
        "id": "aBqvRx1cyZZN"
      },
      "source": [
        "Y nos quedaria armar una funcion que ejecute esas órdenes:"
      ]
    },
    {
      "cell_type": "code",
      "metadata": {
        "id": "A0oDWL0Exw5Q"
      },
      "source": [
        "def execute_orders(hb, orders):\n",
        "    \n",
        "    '''Toma las ordenes que generamos con get_orders y las manda al broker para comprar y vender\n",
        "       lo que necesitamos '''\n",
        "    \n",
        "    for order in orders:\n",
        "        if order[0] == \"V\":\n",
        "            order_number = hb.orders.send_sell_order(order[1], order[2], order[3], int(abs(order[4])))\n",
        "        elif order[0] == \"C\":\n",
        "            order_number = hb.orders.send_buy_order(order[1], order[2], order[3], int(abs(order[4])))"
      ],
      "execution_count": null,
      "outputs": []
    },
    {
      "cell_type": "code",
      "metadata": {
        "id": "y5zr_uqNofyu"
      },
      "source": [
        "## obtenemos el portfolio actual\n",
        "current = get_current_portfolio(hb, comitente)\n",
        "\n",
        "## y esto es nuestro capital: ¿cuanto vale nuestro portfolio?\n",
        "## esa plata la vamos a dividir para rebalacearlo\n",
        "capital = sum([x[1]*x[2] for x in current])"
      ],
      "execution_count": null,
      "outputs": []
    },
    {
      "cell_type": "code",
      "metadata": {
        "id": "tK10gOD7og2M"
      },
      "source": [
        "## generamos el nuevo portfolio y las ordenes para llevar\n",
        "## del portfolio que tenemos al portfolio que queremos\n",
        "new_portfolio = get_1overN_portfolio(hb, tickers,capital)\n",
        "orders = get_orders(current, new_portfolio, plazo)"
      ],
      "execution_count": null,
      "outputs": []
    },
    {
      "cell_type": "code",
      "metadata": {
        "id": "-glzE7-IohgS"
      },
      "source": [
        "## y con esto ejecutamos las ordenes\n",
        "execute_orders(hb, orders)"
      ],
      "execution_count": null,
      "outputs": []
    }
  ]
}